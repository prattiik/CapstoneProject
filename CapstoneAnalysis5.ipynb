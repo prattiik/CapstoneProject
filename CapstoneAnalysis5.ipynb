{
 "cells": [
  {
   "cell_type": "markdown",
   "metadata": {},
   "source": [
    "# ANALYSIS 5 : RECOMMENDER SYSTEM FOR BRAND RUBIE'S COSTUME CO."
   ]
  },
  {
   "cell_type": "markdown",
   "metadata": {},
   "source": [
    "Collaborative filtering algorithms is used to get the recomendations.\n",
    "The Recommender System will take the 'Product Name' and based on the correlation factor will give output as list of products which will be a suggestion or recommendation.\n",
    "Suppose product name 'A' act as input parameter i.e. If a user buy product 'A' so based on that it will output the product highly correlated to it."
   ]
  },
  {
   "cell_type": "code",
   "execution_count": 40,
   "metadata": {},
   "outputs": [],
   "source": [
    "import glob\n",
    "import json\n",
    "import pandas as pd\n",
    "import numpy as np\n",
    "import warnings\n",
    "warnings.filterwarnings(\"ignore\")"
   ]
  },
  {
   "cell_type": "code",
   "execution_count": 63,
   "metadata": {},
   "outputs": [],
   "source": [
    "files=glob.glob('E:\\CapstoneProject\\Prime_Pantry.json\\*')"
   ]
  },
  {
   "cell_type": "markdown",
   "metadata": {},
   "source": [
    "Cleaning of 'meta_Prime_Pantry.json' file and importing the data as pandas DataFrame."
   ]
  },
  {
   "cell_type": "code",
   "execution_count": 82,
   "metadata": {},
   "outputs": [],
   "source": [
    "# Reading a multiple json files from a single json file 'meta_Prime_Pantry.json'.\n",
    "product=[]\n",
    "with open(files[0]) as data_file:\n",
    "    data=data_file.read()\n",
    "    for i in data.split('\\n'):\n",
    "        product.append(i)\n",
    "        \n",
    "# Firstly cleaning the data by converting files into proper json format files by some replacements and \n",
    "# then Making a list of Tuples containg data of brand Rubie's Costume Co.\n",
    "productDataframe=[]\n",
    "brand_List=['Perrier']\n",
    "for x in product:\n",
    "    try:\n",
    "        y=x.replace(\"'\",'\"')\n",
    "        jdata=json.loads(y)\n",
    "        if jdata['brand'] in brand_List:\n",
    "            productDataframe.append((jdata['asin'],jdata['title'])) \n",
    "    except:\n",
    "        pass\n",
    "    \n",
    "# Creating a dataframe using the list of Tuples got in the previous step.  \n",
    "Product_dataset=pd.DataFrame(productDataframe,columns=['Asin','Title'])"
   ]
  },
  {
   "cell_type": "markdown",
   "metadata": {},
   "source": [
    "Getting all the distinct product Asin in list."
   ]
  },
  {
   "cell_type": "code",
   "execution_count": 83,
   "metadata": {},
   "outputs": [],
   "source": [
    "prod_List=Product_dataset.Asin.unique().tolist()"
   ]
  },
  {
   "cell_type": "code",
   "execution_count": 84,
   "metadata": {},
   "outputs": [
    {
     "data": {
      "text/plain": [
       "['B00VWH5C30',\n",
       " 'B00VXIN01E',\n",
       " 'B010S568YI',\n",
       " 'B010S577L6',\n",
       " 'B010S56PXC',\n",
       " 'B011TZXD6W',\n",
       " 'B01DLRDKPK',\n",
       " 'B01DLRDD3Y']"
      ]
     },
     "execution_count": 84,
     "metadata": {},
     "output_type": "execute_result"
    }
   ],
   "source": [
    "prod_List"
   ]
  },
  {
   "cell_type": "markdown",
   "metadata": {},
   "source": [
    "Cleaning of 'Prime_Pantry.json' file and importing the data as pandas DataFrame."
   ]
  },
  {
   "cell_type": "code",
   "execution_count": 85,
   "metadata": {},
   "outputs": [],
   "source": [
    "# Reading a multiple json files from a single json file 'ReviewSample.json'.\n",
    "review=[]\n",
    "with open(files[1]) as data_file:\n",
    "    data=data_file.read()\n",
    "    for i in data.split('\\n'):\n",
    "        review.append(i)\n",
    "        \n",
    "# Making a list of Tuples containg all the data of json files.\n",
    "reviewDataframe=[]\n",
    "for x in review:\n",
    "    try:\n",
    "        jdata=json.loads(x)\n",
    "        reviewDataframe.append((jdata['reviewerID'],jdata['asin'],jdata['overall'])) \n",
    "    except:\n",
    "        pass\n",
    "    \n",
    "# Creating a dataframe using the list of Tuples got in the previous step.     \n",
    "review_dataset=pd.DataFrame(reviewDataframe,columns=['Reviewer_ID','Asin','Rating'])"
   ]
  },
  {
   "cell_type": "markdown",
   "metadata": {},
   "source": [
    "Creating a DataFrame 'Working_dataset' which has products only from brand \"Perrier\""
   ]
  },
  {
   "cell_type": "code",
   "execution_count": 86,
   "metadata": {},
   "outputs": [],
   "source": [
    "Working_dataset=review_dataset[review_dataset.Asin.isin(prod_List)]"
   ]
  },
  {
   "cell_type": "code",
   "execution_count": 87,
   "metadata": {},
   "outputs": [
    {
     "data": {
      "text/html": [
       "<div>\n",
       "<style scoped>\n",
       "    .dataframe tbody tr th:only-of-type {\n",
       "        vertical-align: middle;\n",
       "    }\n",
       "\n",
       "    .dataframe tbody tr th {\n",
       "        vertical-align: top;\n",
       "    }\n",
       "\n",
       "    .dataframe thead th {\n",
       "        text-align: right;\n",
       "    }\n",
       "</style>\n",
       "<table border=\"1\" class=\"dataframe\">\n",
       "  <thead>\n",
       "    <tr style=\"text-align: right;\">\n",
       "      <th></th>\n",
       "      <th>Reviewer_ID</th>\n",
       "      <th>Asin</th>\n",
       "      <th>Rating</th>\n",
       "    </tr>\n",
       "  </thead>\n",
       "  <tbody>\n",
       "    <tr>\n",
       "      <th>255529</th>\n",
       "      <td>A1WJORUDHLX1Z4</td>\n",
       "      <td>B00VWH5C30</td>\n",
       "      <td>5.0</td>\n",
       "    </tr>\n",
       "    <tr>\n",
       "      <th>255530</th>\n",
       "      <td>A1Z9L6HT5YWI8B</td>\n",
       "      <td>B00VWH5C30</td>\n",
       "      <td>4.0</td>\n",
       "    </tr>\n",
       "    <tr>\n",
       "      <th>255531</th>\n",
       "      <td>A3S9HOWOXT7LRC</td>\n",
       "      <td>B00VWH5C30</td>\n",
       "      <td>5.0</td>\n",
       "    </tr>\n",
       "    <tr>\n",
       "      <th>255532</th>\n",
       "      <td>A2ZDYGCO19YGEB</td>\n",
       "      <td>B00VWH5C30</td>\n",
       "      <td>5.0</td>\n",
       "    </tr>\n",
       "    <tr>\n",
       "      <th>255533</th>\n",
       "      <td>AHXGBJ6E749Y2</td>\n",
       "      <td>B00VWH5C30</td>\n",
       "      <td>3.0</td>\n",
       "    </tr>\n",
       "    <tr>\n",
       "      <th>...</th>\n",
       "      <td>...</td>\n",
       "      <td>...</td>\n",
       "      <td>...</td>\n",
       "    </tr>\n",
       "    <tr>\n",
       "      <th>464392</th>\n",
       "      <td>A3RBT0BU16G04E</td>\n",
       "      <td>B01DLRDD3Y</td>\n",
       "      <td>5.0</td>\n",
       "    </tr>\n",
       "    <tr>\n",
       "      <th>464393</th>\n",
       "      <td>A1G8MBCV8TUH6J</td>\n",
       "      <td>B01DLRDD3Y</td>\n",
       "      <td>5.0</td>\n",
       "    </tr>\n",
       "    <tr>\n",
       "      <th>464394</th>\n",
       "      <td>A2620NQRCDH4U3</td>\n",
       "      <td>B01DLRDD3Y</td>\n",
       "      <td>5.0</td>\n",
       "    </tr>\n",
       "    <tr>\n",
       "      <th>464395</th>\n",
       "      <td>A20WRVXD8N7QXZ</td>\n",
       "      <td>B01DLRDD3Y</td>\n",
       "      <td>3.0</td>\n",
       "    </tr>\n",
       "    <tr>\n",
       "      <th>464396</th>\n",
       "      <td>AMCF3RV2ZO2OY</td>\n",
       "      <td>B01DLRDD3Y</td>\n",
       "      <td>5.0</td>\n",
       "    </tr>\n",
       "  </tbody>\n",
       "</table>\n",
       "<p>788 rows × 3 columns</p>\n",
       "</div>"
      ],
      "text/plain": [
       "           Reviewer_ID        Asin  Rating\n",
       "255529  A1WJORUDHLX1Z4  B00VWH5C30     5.0\n",
       "255530  A1Z9L6HT5YWI8B  B00VWH5C30     4.0\n",
       "255531  A3S9HOWOXT7LRC  B00VWH5C30     5.0\n",
       "255532  A2ZDYGCO19YGEB  B00VWH5C30     5.0\n",
       "255533   AHXGBJ6E749Y2  B00VWH5C30     3.0\n",
       "...                ...         ...     ...\n",
       "464392  A3RBT0BU16G04E  B01DLRDD3Y     5.0\n",
       "464393  A1G8MBCV8TUH6J  B01DLRDD3Y     5.0\n",
       "464394  A2620NQRCDH4U3  B01DLRDD3Y     5.0\n",
       "464395  A20WRVXD8N7QXZ  B01DLRDD3Y     3.0\n",
       "464396   AMCF3RV2ZO2OY  B01DLRDD3Y     5.0\n",
       "\n",
       "[788 rows x 3 columns]"
      ]
     },
     "execution_count": 87,
     "metadata": {},
     "output_type": "execute_result"
    }
   ],
   "source": [
    "Working_dataset"
   ]
  },
  {
   "cell_type": "markdown",
   "metadata": {},
   "source": [
    "Performing a merge of 'Working_dataset' and 'Product_dataset' to get all the required details together for building the Recommender system."
   ]
  },
  {
   "cell_type": "code",
   "execution_count": 88,
   "metadata": {},
   "outputs": [],
   "source": [
    "Working_dataset=pd.merge(Working_dataset,Product_dataset,on='Asin',how='inner')"
   ]
  },
  {
   "cell_type": "markdown",
   "metadata": {},
   "source": [
    "Taking only the required columns and creating a pivot table with index as 'Reviewer_ID' , columns as 'Title' and values as 'Rating'.\n",
    "'Model' is a pivot table."
   ]
  },
  {
   "cell_type": "code",
   "execution_count": 89,
   "metadata": {},
   "outputs": [],
   "source": [
    "Working_dataset=Working_dataset[['Reviewer_ID','Asin','Title','Rating']]\n",
    "Model = Working_dataset.pivot_table(index='Reviewer_ID',columns='Title',values='Rating')"
   ]
  },
  {
   "cell_type": "markdown",
   "metadata": {},
   "source": [
    "Function to find the pearson correlation between two columns or products.\n",
    "Will produce result between -1 to 1.\n",
    "Function will be used within the recommender function 'get_recommendations()'."
   ]
  },
  {
   "cell_type": "code",
   "execution_count": 90,
   "metadata": {},
   "outputs": [],
   "source": [
    "def pearson(x1,x2):\n",
    "    x1_cor=x1-x1.mean()\n",
    "    x2_cor=x2-x2.mean()\n",
    "    return np.sum(x1_cor * x2_cor)/np.sqrt(np.sum(x1_cor**2) * np.sum(x2_cor**2))"
   ]
  },
  {
   "cell_type": "markdown",
   "metadata": {},
   "source": [
    "Function to recommend the product based on correlation between them.\n",
    "Takes 3 parameters 'Product Name', 'Model' and 'Number of Recomendations'\n",
    "Will return a list in descending order of correlation and the list size depends on the input given for Number of Recomendations."
   ]
  },
  {
   "cell_type": "code",
   "execution_count": 91,
   "metadata": {},
   "outputs": [],
   "source": [
    "def get_recommendations(product_id,M,num):\n",
    "    recomend=[]\n",
    "    for asin in M.columns:\n",
    "        if asin==product_id:\n",
    "            continue\n",
    "        cor=pearson(M[product_id],M[asin])\n",
    "        if np.isnan(cor):\n",
    "            continue\n",
    "        else:\n",
    "            recomend.append((asin,cor))\n",
    "    recomend.sort(key=lambda tup: tup[1],reverse=True)\n",
    "    return recomend[:num]"
   ]
  },
  {
   "cell_type": "markdown",
   "metadata": {},
   "source": [
    "Function to replace all the html escape characters to english."
   ]
  },
  {
   "cell_type": "code",
   "execution_count": 92,
   "metadata": {},
   "outputs": [],
   "source": [
    "def escape(t):\n",
    "    \"\"\"HTML-escape the text in `t`.\"\"\"\n",
    "    return (t\n",
    "        .replace(\"&amp;\",\"&\").replace(\"&lt;\",\"<\").replace(\"&gt;\",\">\")\n",
    "        .replace(\"&#39;\",\"'\").replace(\"&quot;\",'\"')\n",
    "        )"
   ]
  },
  {
   "cell_type": "markdown",
   "metadata": {},
   "source": [
    "Calling the recommender System by making a function call to 'get_recommendations()'.\n",
    "'Perrier Lime Flavored Carbonated Mineral Water, 16.9 fl oz. Plastic Bottles (6 Count)' is the product name pass to the function i.e. if person buys 'Perrier Lime Flavored Carbonated Mineral Water, 16.9 fl oz. Plastic Bottles (6 Count)' what else can be recommended to him/her.\n",
    "'Model' is passed for correlation calculation.\n",
    "'5' is the maximum number of recommendation a function can return if there is some correlation.\n",
    "Quantifying the correlation can be done by using correlation value given in the output."
   ]
  },
  {
   "cell_type": "code",
   "execution_count": 94,
   "metadata": {},
   "outputs": [],
   "source": [
    "rec=get_recommendations('Perrier Lime Flavored Carbonated Mineral Water, 16.9 fl oz. Plastic Bottles (6 Count)',Model,5)"
   ]
  },
  {
   "cell_type": "markdown",
   "metadata": {},
   "source": [
    "Taking recommendation into DataFrame for Tabular represtation.\n",
    "Takng only those values whose correlation is greater than 0."
   ]
  },
  {
   "cell_type": "code",
   "execution_count": 95,
   "metadata": {},
   "outputs": [],
   "source": [
    "Recommendation=[]\n",
    "for x in rec:\n",
    "    if x[1] > 0:\n",
    "        Recommendation.append((escape(x[0]),x[1]))\n",
    "\n",
    "result=pd.DataFrame(Recommendation,columns=['Product Title','Correlation '])"
   ]
  },
  {
   "cell_type": "markdown",
   "metadata": {},
   "source": [
    "Taking all the recommendations into .csv file"
   ]
  },
  {
   "cell_type": "code",
   "execution_count": 97,
   "metadata": {},
   "outputs": [],
   "source": [
    "result.to_csv('E:\\CapstoneProject\\Prime_Pantry.json\\Recommendation.csv')"
   ]
  },
  {
   "cell_type": "code",
   "execution_count": 96,
   "metadata": {},
   "outputs": [
    {
     "data": {
      "text/plain": [
       "[('Perrier Carbonated Mineral Water, 33.8 fl oz. Plastic Bottle',\n",
       "  0.6606227469540411),\n",
       " ('Perrier Green Apple Flavored Carbonated Mineral Water, 16.9 fl oz. Plastic Bottles (6 Count)',\n",
       "  0.014833677226721178),\n",
       " ('Perrier Carbonated Mineral Water, 16.9 fl oz. Plastic Bottles (6 Count)',\n",
       "  0.00599091439309466)]"
      ]
     },
     "execution_count": 96,
     "metadata": {},
     "output_type": "execute_result"
    }
   ],
   "source": [
    "Recommendation"
   ]
  },
  {
   "cell_type": "markdown",
   "metadata": {},
   "source": [
    "Displaying rows of resultant DataFrame"
   ]
  },
  {
   "cell_type": "code",
   "execution_count": 98,
   "metadata": {},
   "outputs": [
    {
     "data": {
      "text/html": [
       "<div>\n",
       "<style scoped>\n",
       "    .dataframe tbody tr th:only-of-type {\n",
       "        vertical-align: middle;\n",
       "    }\n",
       "\n",
       "    .dataframe tbody tr th {\n",
       "        vertical-align: top;\n",
       "    }\n",
       "\n",
       "    .dataframe thead th {\n",
       "        text-align: right;\n",
       "    }\n",
       "</style>\n",
       "<table border=\"1\" class=\"dataframe\">\n",
       "  <thead>\n",
       "    <tr style=\"text-align: right;\">\n",
       "      <th></th>\n",
       "      <th>Product Title</th>\n",
       "      <th>Correlation</th>\n",
       "    </tr>\n",
       "  </thead>\n",
       "  <tbody>\n",
       "    <tr>\n",
       "      <th>0</th>\n",
       "      <td>Perrier Carbonated Mineral Water, 33.8 fl oz. ...</td>\n",
       "      <td>0.660623</td>\n",
       "    </tr>\n",
       "    <tr>\n",
       "      <th>1</th>\n",
       "      <td>Perrier Green Apple Flavored Carbonated Minera...</td>\n",
       "      <td>0.014834</td>\n",
       "    </tr>\n",
       "    <tr>\n",
       "      <th>2</th>\n",
       "      <td>Perrier Carbonated Mineral Water, 16.9 fl oz. ...</td>\n",
       "      <td>0.005991</td>\n",
       "    </tr>\n",
       "  </tbody>\n",
       "</table>\n",
       "</div>"
      ],
      "text/plain": [
       "                                       Product Title  Correlation \n",
       "0  Perrier Carbonated Mineral Water, 33.8 fl oz. ...      0.660623\n",
       "1  Perrier Green Apple Flavored Carbonated Minera...      0.014834\n",
       "2  Perrier Carbonated Mineral Water, 16.9 fl oz. ...      0.005991"
      ]
     },
     "execution_count": 98,
     "metadata": {},
     "output_type": "execute_result"
    }
   ],
   "source": [
    "result"
   ]
  }
 ],
 "metadata": {
  "kernelspec": {
   "display_name": "Python 3",
   "language": "python",
   "name": "python3"
  },
  "language_info": {
   "codemirror_mode": {
    "name": "ipython",
    "version": 3
   },
   "file_extension": ".py",
   "mimetype": "text/x-python",
   "name": "python",
   "nbconvert_exporter": "python",
   "pygments_lexer": "ipython3",
   "version": "3.7.3"
  }
 },
 "nbformat": 4,
 "nbformat_minor": 4
}
